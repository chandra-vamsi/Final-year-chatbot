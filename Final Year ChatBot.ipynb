{
  "nbformat": 4,
  "nbformat_minor": 0,
  "metadata": {
    "colab": {
      "name": "19BCE1179, 1333, 1338_AI_Proj_WorkingModel.ipynb",
      "provenance": [],
      "collapsed_sections": []
    },
    "kernelspec": {
      "name": "python3",
      "display_name": "Python 3"
    },
    "language_info": {
      "name": "python"
    }
  },
  "cells": [
    {
      "cell_type": "code",
      "execution_count": 1,
      "metadata": {
        "colab": {
          "base_uri": "https://localhost:8080/"
        },
        "id": "7_OuUDXZXbIy",
        "outputId": "7412968a-b3b6-4fdb-eccc-bb7c33b40e98"
      },
      "outputs": [
        {
          "output_type": "stream",
          "name": "stdout",
          "text": [
            "Requirement already satisfied: tensorflow in /usr/local/lib/python3.7/dist-packages (2.8.0)\n",
            "Requirement already satisfied: termcolor>=1.1.0 in /usr/local/lib/python3.7/dist-packages (from tensorflow) (1.1.0)\n",
            "Requirement already satisfied: gast>=0.2.1 in /usr/local/lib/python3.7/dist-packages (from tensorflow) (0.5.3)\n",
            "Requirement already satisfied: astunparse>=1.6.0 in /usr/local/lib/python3.7/dist-packages (from tensorflow) (1.6.3)\n",
            "Requirement already satisfied: grpcio<2.0,>=1.24.3 in /usr/local/lib/python3.7/dist-packages (from tensorflow) (1.44.0)\n",
            "Requirement already satisfied: keras-preprocessing>=1.1.1 in /usr/local/lib/python3.7/dist-packages (from tensorflow) (1.1.2)\n",
            "Requirement already satisfied: setuptools in /usr/local/lib/python3.7/dist-packages (from tensorflow) (57.4.0)\n",
            "Requirement already satisfied: protobuf>=3.9.2 in /usr/local/lib/python3.7/dist-packages (from tensorflow) (3.17.3)\n",
            "Requirement already satisfied: flatbuffers>=1.12 in /usr/local/lib/python3.7/dist-packages (from tensorflow) (2.0)\n",
            "Requirement already satisfied: opt-einsum>=2.3.2 in /usr/local/lib/python3.7/dist-packages (from tensorflow) (3.3.0)\n",
            "Requirement already satisfied: wrapt>=1.11.0 in /usr/local/lib/python3.7/dist-packages (from tensorflow) (1.13.3)\n",
            "Collecting tf-estimator-nightly==2.8.0.dev2021122109\n",
            "  Downloading tf_estimator_nightly-2.8.0.dev2021122109-py2.py3-none-any.whl (462 kB)\n",
            "\u001b[K     |████████████████████████████████| 462 kB 5.2 MB/s \n",
            "\u001b[?25hRequirement already satisfied: tensorboard<2.9,>=2.8 in /usr/local/lib/python3.7/dist-packages (from tensorflow) (2.8.0)\n",
            "Requirement already satisfied: keras<2.9,>=2.8.0rc0 in /usr/local/lib/python3.7/dist-packages (from tensorflow) (2.8.0)\n",
            "Requirement already satisfied: h5py>=2.9.0 in /usr/local/lib/python3.7/dist-packages (from tensorflow) (3.1.0)\n",
            "Requirement already satisfied: typing-extensions>=3.6.6 in /usr/local/lib/python3.7/dist-packages (from tensorflow) (3.10.0.2)\n",
            "Requirement already satisfied: libclang>=9.0.1 in /usr/local/lib/python3.7/dist-packages (from tensorflow) (13.0.0)\n",
            "Requirement already satisfied: absl-py>=0.4.0 in /usr/local/lib/python3.7/dist-packages (from tensorflow) (1.0.0)\n",
            "Requirement already satisfied: numpy>=1.20 in /usr/local/lib/python3.7/dist-packages (from tensorflow) (1.21.5)\n",
            "Requirement already satisfied: tensorflow-io-gcs-filesystem>=0.23.1 in /usr/local/lib/python3.7/dist-packages (from tensorflow) (0.24.0)\n",
            "Requirement already satisfied: google-pasta>=0.1.1 in /usr/local/lib/python3.7/dist-packages (from tensorflow) (0.2.0)\n",
            "Requirement already satisfied: six>=1.12.0 in /usr/local/lib/python3.7/dist-packages (from tensorflow) (1.15.0)\n",
            "Requirement already satisfied: wheel<1.0,>=0.23.0 in /usr/local/lib/python3.7/dist-packages (from astunparse>=1.6.0->tensorflow) (0.37.1)\n",
            "Requirement already satisfied: cached-property in /usr/local/lib/python3.7/dist-packages (from h5py>=2.9.0->tensorflow) (1.5.2)\n",
            "Requirement already satisfied: tensorboard-data-server<0.7.0,>=0.6.0 in /usr/local/lib/python3.7/dist-packages (from tensorboard<2.9,>=2.8->tensorflow) (0.6.1)\n",
            "Requirement already satisfied: tensorboard-plugin-wit>=1.6.0 in /usr/local/lib/python3.7/dist-packages (from tensorboard<2.9,>=2.8->tensorflow) (1.8.1)\n",
            "Requirement already satisfied: google-auth<3,>=1.6.3 in /usr/local/lib/python3.7/dist-packages (from tensorboard<2.9,>=2.8->tensorflow) (1.35.0)\n",
            "Requirement already satisfied: markdown>=2.6.8 in /usr/local/lib/python3.7/dist-packages (from tensorboard<2.9,>=2.8->tensorflow) (3.3.6)\n",
            "Requirement already satisfied: requests<3,>=2.21.0 in /usr/local/lib/python3.7/dist-packages (from tensorboard<2.9,>=2.8->tensorflow) (2.23.0)\n",
            "Requirement already satisfied: werkzeug>=0.11.15 in /usr/local/lib/python3.7/dist-packages (from tensorboard<2.9,>=2.8->tensorflow) (1.0.1)\n",
            "Requirement already satisfied: google-auth-oauthlib<0.5,>=0.4.1 in /usr/local/lib/python3.7/dist-packages (from tensorboard<2.9,>=2.8->tensorflow) (0.4.6)\n",
            "Requirement already satisfied: pyasn1-modules>=0.2.1 in /usr/local/lib/python3.7/dist-packages (from google-auth<3,>=1.6.3->tensorboard<2.9,>=2.8->tensorflow) (0.2.8)\n",
            "Requirement already satisfied: cachetools<5.0,>=2.0.0 in /usr/local/lib/python3.7/dist-packages (from google-auth<3,>=1.6.3->tensorboard<2.9,>=2.8->tensorflow) (4.2.4)\n",
            "Requirement already satisfied: rsa<5,>=3.1.4 in /usr/local/lib/python3.7/dist-packages (from google-auth<3,>=1.6.3->tensorboard<2.9,>=2.8->tensorflow) (4.8)\n",
            "Requirement already satisfied: requests-oauthlib>=0.7.0 in /usr/local/lib/python3.7/dist-packages (from google-auth-oauthlib<0.5,>=0.4.1->tensorboard<2.9,>=2.8->tensorflow) (1.3.1)\n",
            "Requirement already satisfied: importlib-metadata>=4.4 in /usr/local/lib/python3.7/dist-packages (from markdown>=2.6.8->tensorboard<2.9,>=2.8->tensorflow) (4.11.2)\n",
            "Requirement already satisfied: zipp>=0.5 in /usr/local/lib/python3.7/dist-packages (from importlib-metadata>=4.4->markdown>=2.6.8->tensorboard<2.9,>=2.8->tensorflow) (3.7.0)\n",
            "Requirement already satisfied: pyasn1<0.5.0,>=0.4.6 in /usr/local/lib/python3.7/dist-packages (from pyasn1-modules>=0.2.1->google-auth<3,>=1.6.3->tensorboard<2.9,>=2.8->tensorflow) (0.4.8)\n",
            "Requirement already satisfied: chardet<4,>=3.0.2 in /usr/local/lib/python3.7/dist-packages (from requests<3,>=2.21.0->tensorboard<2.9,>=2.8->tensorflow) (3.0.4)\n",
            "Requirement already satisfied: urllib3!=1.25.0,!=1.25.1,<1.26,>=1.21.1 in /usr/local/lib/python3.7/dist-packages (from requests<3,>=2.21.0->tensorboard<2.9,>=2.8->tensorflow) (1.24.3)\n",
            "Requirement already satisfied: idna<3,>=2.5 in /usr/local/lib/python3.7/dist-packages (from requests<3,>=2.21.0->tensorboard<2.9,>=2.8->tensorflow) (2.10)\n",
            "Requirement already satisfied: certifi>=2017.4.17 in /usr/local/lib/python3.7/dist-packages (from requests<3,>=2.21.0->tensorboard<2.9,>=2.8->tensorflow) (2021.10.8)\n",
            "Requirement already satisfied: oauthlib>=3.0.0 in /usr/local/lib/python3.7/dist-packages (from requests-oauthlib>=0.7.0->google-auth-oauthlib<0.5,>=0.4.1->tensorboard<2.9,>=2.8->tensorflow) (3.2.0)\n",
            "Installing collected packages: tf-estimator-nightly\n",
            "Successfully installed tf-estimator-nightly-2.8.0.dev2021122109\n"
          ]
        }
      ],
      "source": [
        "!pip install tensorflow"
      ]
    },
    {
      "cell_type": "code",
      "source": [
        "!pip install keras"
      ],
      "metadata": {
        "colab": {
          "base_uri": "https://localhost:8080/"
        },
        "id": "tSQGi5vdXoG3",
        "outputId": "dcc537b8-7b0d-4d3d-8f66-4fb866c1a154"
      },
      "execution_count": 2,
      "outputs": [
        {
          "output_type": "stream",
          "name": "stdout",
          "text": [
            "Requirement already satisfied: keras in /usr/local/lib/python3.7/dist-packages (2.8.0)\n"
          ]
        }
      ]
    },
    {
      "cell_type": "code",
      "source": [
        "!pip install nltk"
      ],
      "metadata": {
        "colab": {
          "base_uri": "https://localhost:8080/"
        },
        "id": "2gYpOy44XrJV",
        "outputId": "3cf84c85-2778-4630-e99c-ae30e953e2ae"
      },
      "execution_count": 3,
      "outputs": [
        {
          "output_type": "stream",
          "name": "stdout",
          "text": [
            "Requirement already satisfied: nltk in /usr/local/lib/python3.7/dist-packages (3.2.5)\n",
            "Requirement already satisfied: six in /usr/local/lib/python3.7/dist-packages (from nltk) (1.15.0)\n"
          ]
        }
      ]
    },
    {
      "cell_type": "code",
      "source": [
        "import numpy as np\n",
        "from keras.models import Sequential\n",
        "from keras.layers import Dense, Activation, Dropout\n",
        "from tensorflow.keras.optimizers import SGD\n",
        "import random"
      ],
      "metadata": {
        "id": "5VtamCHgXsoO"
      },
      "execution_count": 4,
      "outputs": []
    },
    {
      "cell_type": "code",
      "source": [
        "import nltk\n",
        "nltk.download('punkt')\n",
        "nltk.download('wordnet')\n",
        "from nltk.stem import WordNetLemmatizer"
      ],
      "metadata": {
        "colab": {
          "base_uri": "https://localhost:8080/"
        },
        "id": "iPAJ6LPmX7Po",
        "outputId": "f802b65c-7801-4eec-8937-ea428d4589a9"
      },
      "execution_count": 6,
      "outputs": [
        {
          "output_type": "stream",
          "name": "stdout",
          "text": [
            "[nltk_data] Downloading package punkt to /root/nltk_data...\n",
            "[nltk_data]   Package punkt is already up-to-date!\n",
            "[nltk_data] Downloading package wordnet to /root/nltk_data...\n",
            "[nltk_data]   Package wordnet is already up-to-date!\n"
          ]
        }
      ]
    },
    {
      "cell_type": "code",
      "source": [
        "!pip install tflearn"
      ],
      "metadata": {
        "colab": {
          "base_uri": "https://localhost:8080/"
        },
        "id": "etR94gbK9hSw",
        "outputId": "ab3deef8-2bce-4477-f3db-21a9fc0e71dc"
      },
      "execution_count": 7,
      "outputs": [
        {
          "output_type": "stream",
          "name": "stdout",
          "text": [
            "Collecting tflearn\n",
            "  Downloading tflearn-0.5.0.tar.gz (107 kB)\n",
            "\u001b[?25l\r\u001b[K     |███                             | 10 kB 25.1 MB/s eta 0:00:01\r\u001b[K     |██████                          | 20 kB 13.9 MB/s eta 0:00:01\r\u001b[K     |█████████▏                      | 30 kB 10.5 MB/s eta 0:00:01\r\u001b[K     |████████████▏                   | 40 kB 9.2 MB/s eta 0:00:01\r\u001b[K     |███████████████▎                | 51 kB 4.3 MB/s eta 0:00:01\r\u001b[K     |██████████████████▎             | 61 kB 5.0 MB/s eta 0:00:01\r\u001b[K     |█████████████████████▍          | 71 kB 5.3 MB/s eta 0:00:01\r\u001b[K     |████████████████████████▍       | 81 kB 4.1 MB/s eta 0:00:01\r\u001b[K     |███████████████████████████▌    | 92 kB 4.6 MB/s eta 0:00:01\r\u001b[K     |██████████████████████████████▌ | 102 kB 5.0 MB/s eta 0:00:01\r\u001b[K     |████████████████████████████████| 107 kB 5.0 MB/s \n",
            "\u001b[?25hRequirement already satisfied: numpy in /usr/local/lib/python3.7/dist-packages (from tflearn) (1.21.5)\n",
            "Requirement already satisfied: six in /usr/local/lib/python3.7/dist-packages (from tflearn) (1.15.0)\n",
            "Requirement already satisfied: Pillow in /usr/local/lib/python3.7/dist-packages (from tflearn) (7.1.2)\n",
            "Building wheels for collected packages: tflearn\n",
            "  Building wheel for tflearn (setup.py) ... \u001b[?25l\u001b[?25hdone\n",
            "  Created wheel for tflearn: filename=tflearn-0.5.0-py3-none-any.whl size=127299 sha256=b033029a72fb4aa419f7955526542447ed58d7debe5ebd246bae1a99f5b67375\n",
            "  Stored in directory: /root/.cache/pip/wheels/5f/14/2e/1d8e28cc47a5a931a2fb82438c9e37ef9246cc6a3774520271\n",
            "Successfully built tflearn\n",
            "Installing collected packages: tflearn\n",
            "Successfully installed tflearn-0.5.0\n"
          ]
        }
      ]
    },
    {
      "cell_type": "code",
      "source": [
        "import json\n",
        "import pickle"
      ],
      "metadata": {
        "id": "7RacUZUzX_J-"
      },
      "execution_count": 8,
      "outputs": []
    },
    {
      "cell_type": "code",
      "source": [
        "from nltk.stem.lancaster import LancasterStemmer\n",
        "stemmer = LancasterStemmer()"
      ],
      "metadata": {
        "id": "6a91ANBW9vpb"
      },
      "execution_count": 10,
      "outputs": []
    },
    {
      "cell_type": "code",
      "source": [
        "# import intents file\n",
        "with open('intents.json') as json_data:\n",
        "    intents = json.load(json_data)"
      ],
      "metadata": {
        "id": "4HJkUzgV95zN"
      },
      "execution_count": 11,
      "outputs": []
    },
    {
      "cell_type": "code",
      "source": [
        "intents"
      ],
      "metadata": {
        "colab": {
          "base_uri": "https://localhost:8080/"
        },
        "id": "KGKhm_ab9_Vf",
        "outputId": "d5e5ca0b-0642-485a-e4c9-67fd644b734e"
      },
      "execution_count": 12,
      "outputs": [
        {
          "output_type": "execute_result",
          "data": {
            "text/plain": [
              "{'intents': [{'context_set': [''],\n",
              "   'patterns': ['Hi',\n",
              "    'How are you',\n",
              "    'Is anyone there?',\n",
              "    'Hello',\n",
              "    'Good day',\n",
              "    'Whats up'],\n",
              "   'responses': ['Hello!', 'Hi there, how can I help?'],\n",
              "   'tag': 'greeting'},\n",
              "  {'context_set': [''],\n",
              "   'patterns': ['what is your name',\n",
              "    'what should I call you',\n",
              "    'whats your name?'],\n",
              "   'responses': ['You can call me bot.', \"I'm bot!\", \"I'm bot.\"],\n",
              "   'tag': 'name'},\n",
              "  {'context_set': [''],\n",
              "   'patterns': ['i need help',\n",
              "    'help me',\n",
              "    'tell me',\n",
              "    'i have some problem',\n",
              "    'problem',\n",
              "    'can you help me?'],\n",
              "   'responses': ['yes i can help you',\n",
              "    'tell me what can i do for you',\n",
              "    'what do you want me to do',\n",
              "    'how can i help you',\n",
              "    'what kind of help do you need',\n",
              "    'tell me'],\n",
              "   'tag': 'problem_solving'},\n",
              "  {'context_set': [''],\n",
              "   'patterns': ['yellow skin',\n",
              "    'yellowish white part of eye',\n",
              "    'itching of the skin',\n",
              "    'light colored stools',\n",
              "    'dark colored urine'],\n",
              "   'responses': ['you might be suffering from jaundice'],\n",
              "   'tag': 'jaundice'},\n",
              "  {'context_set': [''],\n",
              "   'patterns': ['anxiety',\n",
              "    'depression fatigue',\n",
              "    'feeling tense',\n",
              "    'flashbacks and nightmares',\n",
              "    'disinterest in regular activities',\n",
              "    'suicidal thoughts',\n",
              "    'hallucinations',\n",
              "    'delusions'],\n",
              "   'responses': ['you might be suffering from emotional problems'],\n",
              "   'tag': 'emotional problems'},\n",
              "  {'context_set': [''],\n",
              "   'patterns': [' dizziness', 'nausea', 'vomiting', 'inability to walk'],\n",
              "   'responses': ['you might be suffering from headache problems'],\n",
              "   'tag': 'headache problems'},\n",
              "  {'context_set': [''],\n",
              "   'patterns': ['feeling sick (nausea)',\n",
              "    'being sick',\n",
              "    'loss of appetite',\n",
              "    'diarrhoea',\n",
              "    'a high temperature (fever) and a flushed face'],\n",
              "   'responses': ['you might be suffering from appendicitis'],\n",
              "   'tag': 'appendicitis'},\n",
              "  {'context_set': [''],\n",
              "   'patterns': ['bleeding from the bottom (rectal bleeding)',\n",
              "    'itching and pain around the anus',\n",
              "    'small lumps around the anus',\n",
              "    'a discharge of mucus from the anus',\n",
              "    'loss of bowel control '],\n",
              "   'responses': ['you might be suffering from anal cancer'],\n",
              "   'tag': 'anal cancer'},\n",
              "  {'context_set': [''],\n",
              "   'patterns': [' sneezing and an itchy, runny or blocked nose',\n",
              "    'itchy, red, watering eyes',\n",
              "    'wheezing, chest tightness, shortness of breath and a cough',\n",
              "    'a raised, itchy, red rash (hives)',\n",
              "    'swollen lips, tongue, eyes or face',\n",
              "    'tummy pain, feeling sick, vomiting or diarrhoea',\n",
              "    'dry, red and cracked skin'],\n",
              "   'responses': ['you might be suffering from allergy'],\n",
              "   'tag': 'allergy'},\n",
              "  {'context_set': [''],\n",
              "   'patterns': [' abdominal pain',\n",
              "    'loss of appetite',\n",
              "    'fatigue',\n",
              "    'feeling sick',\n",
              "    'diarrhoea',\n",
              "    'feeling generally unwell',\n",
              "    'yellowing of the skin and whites of the eyes (jaundice)',\n",
              "    'swelling in the legs, ankles and feet, due to a build-up of fluid',\n",
              "    'swelling in your abdomen, due to a build-up of fluid known as ascites',\n",
              "    'a high temperature (fever) and shivering attacks',\n",
              "    'very itchy skin',\n",
              "    'hair loss',\n",
              "    'unusually curved fingertips and nails (clubbed fingers)',\n",
              "    'blotchy red palms',\n",
              "    'significant weight loss',\n",
              "    'weakness and muscle wasting',\n",
              "    'confusion and memory problems, trouble sleeping (insomnia) and changes in your personality due to a build-up of toxins in the brain',\n",
              "    'vomiting blood and black, tarry stools due to internal bleeding',\n",
              "    'a tendency to bleed and bruise more easily, such as frequent nosebleeds and bleeding gums',\n",
              "    'increased sensitivity to alcohol and drugs'],\n",
              "   'responses': ['you might be suffering from alcohol-related liver disease'],\n",
              "   'tag': 'alcohol-related liver disease'},\n",
              "  {'context_set': [''],\n",
              "   'patterns': [' a need to urinate on a more frequent basis',\n",
              "    'sudden urges to urinate',\n",
              "    'a burning sensation when passing urine'],\n",
              "   'responses': ['you might be suffering from bladder cancer'],\n",
              "   'tag': 'bladder cancer'},\n",
              "  {'context_set': [''],\n",
              "   'patterns': ['izziness',\n",
              "    'light headedness',\n",
              "    'headache',\n",
              "    'tiredness',\n",
              "    'dry mouth',\n",
              "    'dry lips',\n",
              "    'dry eyes',\n",
              "    'passing small amounts of urine infrequently'],\n",
              "   'responses': ['you might be suffering from dehydration'],\n",
              "   'tag': 'dehydration'},\n",
              "  {'context_set': [''],\n",
              "   'patterns': ['gradually worsening vision',\n",
              "    'sudden vision loss',\n",
              "    'shapes floating in field of vision (floaters)',\n",
              "    'blurred vision',\n",
              "    ' patchy vision',\n",
              "    'eye pain or redness'],\n",
              "   'responses': ['you might be suffering from diabetic retinopathy'],\n",
              "   'tag': 'diabetic retinopathy'},\n",
              "  {'context_set': [''],\n",
              "   'patterns': ['rinating more often than usual, particularly at night',\n",
              "    'feeling very thirsty',\n",
              "    'feeling very tired',\n",
              "    'unexplained weight loss',\n",
              "    'itchiness around the genital area',\n",
              "    'cuts or wounds that heal slowly',\n",
              "    'blurred vision'],\n",
              "   'responses': ['you might be suffering from type 2 diabetes'],\n",
              "   'tag': 'type 2 diabetes'},\n",
              "  {'context_set': [''],\n",
              "   'patterns': ['feeling very thirsty',\n",
              "    'urinating more frequently than usual',\n",
              "    'urinating particularly at night',\n",
              "    'feeling very tired',\n",
              "    'weight loss',\n",
              "    'loss of muscle bulk',\n",
              "    'itchiness around the genital area',\n",
              "    'regular bouts of thrush',\n",
              "    'blurred vision',\n",
              "    'the lens of eye changing shape'],\n",
              "   'responses': ['you might be suffering from type 1 diabetes'],\n",
              "   'tag': 'type 1 diabetes'},\n",
              "  {'context_set': [''],\n",
              "   'patterns': ['feeling shaky and irritable',\n",
              "    'sweating',\n",
              "    'tingling lips',\n",
              "    'feeling weak',\n",
              "    'feeling confused',\n",
              "    'hunger',\n",
              "    'nausea',\n",
              "    'feeling sick'],\n",
              "   'responses': ['you might be suffering from Hypoglycaemia (low blood glucose)'],\n",
              "   'tag': 'Hypoglycaemia'},\n",
              "  {'context_set': [''],\n",
              "   'patterns': ['extreme thirst',\n",
              "    'a dry mouth',\n",
              "    'blurred vision',\n",
              "    'drowsiness',\n",
              "    'need to pass urine frequently'],\n",
              "   'responses': ['you might be suffering from Hyperglycaemia (high blood glucose)'],\n",
              "   'tag': 'Hyperglycaemia'},\n",
              "  {'context_set': [''],\n",
              "   'patterns': ['stomach cramps',\n",
              "    'nausea',\n",
              "    'vomiting',\n",
              "    'headache',\n",
              "    'loss of appetite'],\n",
              "   'responses': ['you might be suffering from diarrhoea'],\n",
              "   'tag': 'diarrhoea'},\n",
              "  {'context_set': [''],\n",
              "   'patterns': ['high temperature fever',\n",
              "    'headache',\n",
              "    'joint and muscle pain',\n",
              "    'sore throat',\n",
              "    'severe muscle weakness'],\n",
              "   'responses': ['you might be suffering from headache Ebola'],\n",
              "   'tag': 'Ebola'},\n",
              "  {'context_set': [''],\n",
              "   'patterns': ['extreme tiredness (fatigue) or anaemia',\n",
              "    'unintentional weight loss',\n",
              "    'a high temperature of 38C (100.4F) or above',\n",
              "    'night sweats',\n",
              "    'general sense of feeling unwell',\n",
              "    'swelling of the veins in the testicles (in men)',\n",
              "    'loss of appetite',\n",
              "    'high blood pressure (hypertension)'],\n",
              "   'responses': ['you might be suffering from kidney cancer'],\n",
              "   'tag': 'kidney cancer'},\n",
              "  {'context_set': [''],\n",
              "   'patterns': ['a high temperature fever',\n",
              "    'sore throat',\n",
              "    'swollen glands',\n",
              "    'fatigue',\n",
              "    'extreme tiredness'],\n",
              "   'responses': ['you might be suffering from glandular fever'],\n",
              "   'tag': 'glandular fever'},\n",
              "  {'context_set': [''],\n",
              "   'patterns': ['frequent sneezing',\n",
              "    'runny nose',\n",
              "    ' blocked nose',\n",
              "    'itchy, red or watery eyes',\n",
              "    'itchy throat, mouth, nose and ears',\n",
              "    'cough'],\n",
              "   'responses': ['you might be suffering from hay fever'],\n",
              "   'tag': 'hay fever'},\n",
              "  {'context_set': [''],\n",
              "   'patterns': ['widespread pain'],\n",
              "   'responses': ['you might be suffering from fibromyalgia'],\n",
              "   'tag': 'fibromyalgia'},\n",
              "  {'context_set': [''],\n",
              "   'patterns': ['shadows, flashes of light, or wiggly lines in your vision',\n",
              "    'blurred vision',\n",
              "    'a dark patch in eye',\n",
              "    'partial or total loss of vision',\n",
              "    'bulging of one eye',\n",
              "    \"lump on eyelid or in eye that's increasing in size\",\n",
              "    'pain in or around eye'],\n",
              "   'responses': ['you might be suffering from eye cancer'],\n",
              "   'tag': 'eye cancer'},\n",
              "  {'context_set': [''],\n",
              "   'patterns': ['have a new cough that’s lasted for an hour',\n",
              "    'have had 3 or more episodes of coughing in 24 hours',\n",
              "    'are coughing more than usual',\n",
              "    'a new continuous cough',\n",
              "    ' a fever/high temperature (37.8C or greater)'],\n",
              "   'responses': ['you might be suffering from COVID-19'],\n",
              "   'tag': 'COVID-19'},\n",
              "  {'context_set': [''],\n",
              "   'patterns': ['a sore throat',\n",
              "    'a blocked or runny nose',\n",
              "    'sneezing',\n",
              "    'a cough',\n",
              "    'a hoarse voice',\n",
              "    'generally feeling unwell'],\n",
              "   'responses': ['you might be suffering from common cold'],\n",
              "   'tag': 'common cold'},\n",
              "  {'context_set': [''],\n",
              "   'patterns': ['feeling sick',\n",
              "    'a high temperature (fever) of 38C (100.4F) or over',\n",
              "    'aching, painful muscles',\n",
              "    'headache',\n",
              "    'generally feeling unwell',\n",
              "    'loss of appetite'],\n",
              "   'responses': ['you might be suffering from chickenpox'],\n",
              "   'tag': 'chickenpox'},\n",
              "  {'context_set': [''],\n",
              "   'patterns': [' facial drooping',\n",
              "    'arm weakness',\n",
              "    'difficulty with speech',\n",
              "    'rapidly developing dizziness or balance',\n",
              "    'sudden numbness or weakness',\n",
              "    'loss of vision',\n",
              "    'confusion',\n",
              "    ' severe headache'],\n",
              "   'responses': ['you might be suffering from stroke'],\n",
              "   'tag': 'stroke'},\n",
              "  {'context_set': [''],\n",
              "   'patterns': ['  nipple discharge',\n",
              "    'unusual breast tenderness or pain',\n",
              "    'breast or nipple skin changes',\n",
              "    'lump or thickening in or near breast or in the underarm area.'],\n",
              "   'responses': ['you might be suffering from breast problems'],\n",
              "   'tag': 'breast problems'},\n",
              "  {'context_set': [''],\n",
              "   'patterns': [' bleeding or spotting between periods',\n",
              "    'itching, burning, or irritation genital area',\n",
              "    'pain or discomfort during sex',\n",
              "    'heavy or painful menstrual bleeding',\n",
              "    ' severe pelvic/abdominal pain',\n",
              "    'unusual vaginal discharge',\n",
              "    'feeling of fullness in the lower abdomen',\n",
              "    ' frequent urination or urinary urgency'],\n",
              "   'responses': ['you might be suffering from reproductive health problems'],\n",
              "   'tag': 'reproductive health problems'},\n",
              "  {'context_set': [''],\n",
              "   'patterns': ['  coughing up blood',\n",
              "    'shortness of breath',\n",
              "    'difficulty breathing',\n",
              "    'chronic cough',\n",
              "    'repeated bouts of bronchitis or pneumonia',\n",
              "    'wheezing.'],\n",
              "   'responses': ['you might be suffering from lung problems'],\n",
              "   'tag': 'lung problems'},\n",
              "  {'context_set': [''],\n",
              "   'patterns': ['difficult or painful urination',\n",
              "    'frequent urination',\n",
              "    'loss of bladder control',\n",
              "    'blood in urine',\n",
              "    'waking frequently at night to urinate',\n",
              "    'wetting the bed at night',\n",
              "    'leaking urine.'],\n",
              "   'responses': ['you might be suffering from bladder problems'],\n",
              "   'tag': 'bladder problems'},\n",
              "  {'context_set': [''],\n",
              "   'patterns': ['extreme thirst',\n",
              "    'dehydration',\n",
              "    'excessive hunger',\n",
              "    'losing weight without trying',\n",
              "    'binging, vomiting',\n",
              "    'starvation',\n",
              "    'preoccupation with food and weight',\n",
              "    'distorted body image',\n",
              "    'compulsive exercise',\n",
              "    'abuse of laxatives or diet pills',\n",
              "    'depression'],\n",
              "   'responses': ['you might be suffering from eating or weight problems'],\n",
              "   'tag': 'eating or weight problems'},\n",
              "  {'context_set': [''],\n",
              "   'patterns': ['headache',\n",
              "    'pain in the head',\n",
              "    'cough',\n",
              "    'fever',\n",
              "    'snizing',\n",
              "    'runny nose',\n",
              "    'sore throat',\n",
              "    'pain in throat',\n",
              "    'itching throat'],\n",
              "   'responses': ['you might be suffering from influeza',\n",
              "    'you might be suffering from flu'],\n",
              "   'tag': 'influenza'},\n",
              "  {'context_set': [''],\n",
              "   'patterns': ['shortness of breath',\n",
              "    'chest pain or tightness',\n",
              "    'cough',\n",
              "    'snizing'],\n",
              "   'responses': ['you might be suffering from asthma'],\n",
              "   'tag': 'asthma'},\n",
              "  {'context_set': [''],\n",
              "   'patterns': ['abdominal pain',\n",
              "    'fever',\n",
              "    'dark urine',\n",
              "    'joint pain',\n",
              "    'loss of apetite',\n",
              "    'nausea and vomitting',\n",
              "    'weakness and fatigue',\n",
              "    'yellowing of skin',\n",
              "    'jaundice'],\n",
              "   'responses': ['you might be suffering from hepatitis_B'],\n",
              "   'tag': 'hepatitis_B'},\n",
              "  {'context_set': [''],\n",
              "   'patterns': ['headache',\n",
              "    'fever',\n",
              "    'muscle pain',\n",
              "    'joint pain',\n",
              "    'pain behind eyes',\n",
              "    'nausea and vomitting',\n",
              "    'rashes',\n",
              "    'minor bleeding from gums or nose '],\n",
              "   'responses': ['you might be suffering from Dengue'],\n",
              "   'tag': 'Dengue'}]}"
            ]
          },
          "metadata": {},
          "execution_count": 12
        }
      ]
    },
    {
      "cell_type": "code",
      "source": [
        "words=[]\n",
        "classes = []\n",
        "documents = []\n",
        "ignore = ['?']"
      ],
      "metadata": {
        "id": "KmWyck7MYDQJ"
      },
      "execution_count": 13,
      "outputs": []
    },
    {
      "cell_type": "code",
      "source": [
        "# loop through each sentence in the intent's patterns\n",
        "for intent in intents['intents']:\n",
        "    for pattern in intent['patterns']:\n",
        "        # tokenize each and every word in the sentence\n",
        "        w = nltk.word_tokenize(pattern)\n",
        "        # add word to the words list\n",
        "        words.extend(w)\n",
        "        # add word(s) to documents\n",
        "        documents.append((w, intent['tag']))\n",
        "        # add tags to our classes list\n",
        "        if intent['tag'] not in classes:\n",
        "            classes.append(intent['tag'])"
      ],
      "metadata": {
        "id": "d975MgV_YGJ-"
      },
      "execution_count": 14,
      "outputs": []
    },
    {
      "cell_type": "code",
      "source": [
        "# Perform stemming and lower each word as well as remove duplicates\n",
        "words = [stemmer.stem(w.lower()) for w in words if w not in ignore]\n",
        "words = sorted(list(set(words)))"
      ],
      "metadata": {
        "id": "3-fM28qEYJ_S"
      },
      "execution_count": 15,
      "outputs": []
    },
    {
      "cell_type": "code",
      "source": [
        "# remove duplicate classes\n",
        "classes = sorted(list(set(classes)))"
      ],
      "metadata": {
        "id": "TFbcbI1TYRY7"
      },
      "execution_count": 16,
      "outputs": []
    },
    {
      "cell_type": "code",
      "source": [
        "print(len(documents), \"documents\")"
      ],
      "metadata": {
        "id": "j2m0RBQAYVC7",
        "colab": {
          "base_uri": "https://localhost:8080/"
        },
        "outputId": "7d3f082f-40ad-4e3f-8d17-2438136922c5"
      },
      "execution_count": 17,
      "outputs": [
        {
          "output_type": "stream",
          "name": "stdout",
          "text": [
            "244 documents\n"
          ]
        }
      ]
    },
    {
      "cell_type": "code",
      "source": [
        "print(len(classes), \"classes\", classes)"
      ],
      "metadata": {
        "colab": {
          "base_uri": "https://localhost:8080/"
        },
        "id": "RN0I31S0YY-n",
        "outputId": "6e8e3fd7-7815-46d9-904d-6abceb2682e8"
      },
      "execution_count": 18,
      "outputs": [
        {
          "output_type": "stream",
          "name": "stdout",
          "text": [
            "37 classes ['COVID-19', 'Dengue', 'Ebola', 'Hyperglycaemia', 'Hypoglycaemia', 'alcohol-related liver disease', 'allergy', 'anal cancer', 'appendicitis', 'asthma', 'bladder cancer', 'bladder problems', 'breast problems', 'chickenpox', 'common cold', 'dehydration', 'diabetic retinopathy', 'diarrhoea', 'eating or weight problems', 'emotional problems', 'eye cancer', 'fibromyalgia', 'glandular fever', 'greeting', 'hay fever', 'headache problems', 'hepatitis_B', 'influenza', 'jaundice', 'kidney cancer', 'lung problems', 'name', 'problem_solving', 'reproductive health problems', 'stroke', 'type 1 diabetes', 'type 2 diabetes']\n"
          ]
        }
      ]
    },
    {
      "cell_type": "code",
      "source": [
        "print(len(words), \"unique stemmed words\", words)"
      ],
      "metadata": {
        "colab": {
          "base_uri": "https://localhost:8080/"
        },
        "id": "doCWUKHhYd2f",
        "outputId": "2ed720e1-7790-490e-91da-9c9cdb109cf4"
      },
      "execution_count": 19,
      "outputs": [
        {
          "output_type": "stream",
          "name": "stdout",
          "text": [
            "325 unique stemmed words [\"'s\", '(', ')', ',', '.', '100.4f', '24', '3', '37.8c', '38c', 'a', 'abdom', 'abdomin', 'abov', 'abus', 'ach', 'act', 'alcohol', 'amount', 'an', 'anaem', 'and', 'ankl', 'anxy', 'anyon', 'apetit', 'appetit', 'ar', 'are', 'arm', 'around', 'as', 'ascit', 'at', 'attack', 'bal', 'bas', 'bed', 'behind', 'being', 'between', 'bing', 'black', 'blad', 'blee', 'block', 'blood', 'blotchy', 'blur', 'body', 'bottom', 'bout', 'bowel', 'brain', 'brea', 'breast', 'breath', 'bronchit', 'bru', 'build-up', 'bulg', 'bulk', 'burn', 'cal', 'can', 'chang', 'chest', 'chronic', 'club', 'col', 'compuls', 'confus', 'continu', 'control', 'cough', 'crack', 'cramp', 'curv', 'cut', 'dark', 'day', 'dehydr', 'delud', 'depress', 'develop', 'diarrhoe', 'diet', 'difficul', 'difficult', 'discharg', 'discomfort', 'disinterest', 'distort', 'dizzy', 'droop', 'drowsy', 'drug', 'dry', 'due', 'dur', 'ear', 'easy', 'episod', 'excess', 'exerc', 'extrem', 'ey', 'eyelid', 'fac', 'fatigu', 'feel', 'feet', 'fev', 'fever/high', 'field', 'fing', 'fingertip', 'flash', 'flashback', 'flo', 'fluid', 'flush', 'food', 'for', 'frequ', 'from', 'ful', 'gen', 'genit', 'gland', 'good', 'grad', 'gre', 'gum', 'had', 'hair', 'hallucin', 'hav', 'head', 'headach', 'heal', 'heavy', 'hello', 'help', 'hi', 'high', 'hiv', 'hoars', 'hour', 'how', 'hung', 'hypertend', 'i', 'im', 'in', 'increas', 'infrequ', 'insomn', 'intern', 'irrit', 'is', 'itch', 'itchy', 'izzy', 'jaund', 'joint', 'known', 'last', 'lax', 'leak', 'leg', 'len', 'light', 'lin', 'lip', 'los', 'loss', 'low', 'lump', 'me', 'mem', 'men', 'menst', 'min', 'mor', 'mou', 'muc', 'musc', 'nail', 'nam', 'nause', 'near', 'nee', 'new', 'night', 'nightm', 'nippl', 'nos', 'noseblee', 'numb', 'of', 'oft', 'on', 'or', 'ov', 'pain', 'palm', 'part', 'particul', 'pass', 'patch', 'patchy', 'pelvic/abdominal', 'period', 'person', 'pil', 'pneumon', 'preoccup', 'press', 'problem', 'rais', 'rapid', 'rash', 'rect', 'red', 'regul', 'rep', 'rin', 'runny', 's', 'sens', 'sensit', 'sev', 'sex', 'shadow', 'shaky', 'shap', 'shiv', 'short', 'should', 'sick', 'sign', 'siz', 'skin', 'sleep', 'slow', 'smal', 'sneez', 'sniz', 'som', 'sor', 'speech', 'spot', 'starv', 'stomach', 'stool', 'such', 'sud', 'suicid', 'swe', 'swel', 'swol', 'tarry', 'tel', 'temp', 'tend', 'tens', 'testic', 'than', 'that', 'the', 'ther', 'thick', 'thirst', 'thirsty', 'thought', 'throat', 'thrush', 'tight', 'tingl', 'tir', 'to', 'tongu', 'tot', 'toxin', 'troubl', 'try', 'tummy', 'underarm', 'unexplain', 'unint', 'unus', 'unwel', 'up', 'urg', 'urin', 'us', 'vagin', 'vein', 'very', 'vis', 'voic', 'vomit', 'wak', 'walk', 'wast', 'wat', 'watery', 'weak', 'weight', 'wet', 'what', 'wheez', 'when', 'whit', 'widespread', 'wig', 'with', 'without', 'wors', 'wound', 'yellow', 'yo', 'you', '’']\n"
          ]
        }
      ]
    },
    {
      "cell_type": "code",
      "source": [
        "# create training data\n",
        "training = []\n",
        "output = []\n",
        "# create an empty array for output\n",
        "output_empty = [0] * len(classes)"
      ],
      "metadata": {
        "id": "9AbMd4aaYiDk"
      },
      "execution_count": 20,
      "outputs": []
    },
    {
      "cell_type": "code",
      "source": [
        "# create training set, bag of words for each sentence\n",
        "for doc in documents:\n",
        "    # initialize bag of words\n",
        "    bag = []\n",
        "    # list of tokenized words for the pattern\n",
        "    pattern_words = doc[0]\n",
        "    # stemming each word\n",
        "    pattern_words = [stemmer.stem(word.lower()) for word in pattern_words]\n",
        "    # create bag of words array\n",
        "    for w in words:\n",
        "        bag.append(1) if w in pattern_words else bag.append(0)\n",
        "    # output is '1' for current tag and '0' for rest of other tags\n",
        "    output_row = list(output_empty)\n",
        "    output_row[classes.index(doc[1])] = 1\n",
        "    training.append([bag, output_row])"
      ],
      "metadata": {
        "id": "bTbmLCp8Ylty"
      },
      "execution_count": 21,
      "outputs": []
    },
    {
      "cell_type": "code",
      "source": [
        "# shuffling features and turning it into np.array\n",
        "random.shuffle(training)\n",
        "training = np.array(training)"
      ],
      "metadata": {
        "id": "BCaGXBuVYpmf",
        "colab": {
          "base_uri": "https://localhost:8080/"
        },
        "outputId": "c471c663-41f2-45ad-939d-bb8184376b5c"
      },
      "execution_count": 22,
      "outputs": [
        {
          "output_type": "stream",
          "name": "stderr",
          "text": [
            "/usr/local/lib/python3.7/dist-packages/ipykernel_launcher.py:3: VisibleDeprecationWarning: Creating an ndarray from ragged nested sequences (which is a list-or-tuple of lists-or-tuples-or ndarrays with different lengths or shapes) is deprecated. If you meant to do this, you must specify 'dtype=object' when creating the ndarray.\n",
            "  This is separate from the ipykernel package so we can avoid doing imports until\n"
          ]
        }
      ]
    },
    {
      "cell_type": "code",
      "source": [
        "#creating training lists\n",
        "train_x = list(training[:,0])\n",
        "train_y = list(training[:,1])"
      ],
      "metadata": {
        "id": "-Hkf9Gu3_mgm"
      },
      "execution_count": 29,
      "outputs": []
    },
    {
      "cell_type": "code",
      "source": [
        "### CREATE VIRTUAL DISPLAY ###\n",
        "!apt-get install -y xvfb # Install X Virtual Frame Buffer\n",
        "import os\n",
        "os.system('Xvfb :1 -screen 0 1600x1200x16  &')    # create virtual display with size 1600x1200 and 16 bit color. Color can be changed to 24 or 8\n",
        "os.environ['DISPLAY']=':1.0'"
      ],
      "metadata": {
        "colab": {
          "base_uri": "https://localhost:8080/"
        },
        "id": "Zo9nR3ML_JGC",
        "outputId": "7043cdbe-3f09-4483-ef0f-4b2b3d21c7df"
      },
      "execution_count": 24,
      "outputs": [
        {
          "output_type": "stream",
          "name": "stdout",
          "text": [
            "Reading package lists... Done\n",
            "Building dependency tree       \n",
            "Reading state information... Done\n",
            "The following NEW packages will be installed:\n",
            "  xvfb\n",
            "0 upgraded, 1 newly installed, 0 to remove and 39 not upgraded.\n",
            "Need to get 784 kB of archives.\n",
            "After this operation, 2,271 kB of additional disk space will be used.\n",
            "Get:1 http://archive.ubuntu.com/ubuntu bionic-updates/universe amd64 xvfb amd64 2:1.19.6-1ubuntu4.10 [784 kB]\n",
            "Fetched 784 kB in 1s (963 kB/s)\n",
            "Selecting previously unselected package xvfb.\n",
            "(Reading database ... 155335 files and directories currently installed.)\n",
            "Preparing to unpack .../xvfb_2%3a1.19.6-1ubuntu4.10_amd64.deb ...\n",
            "Unpacking xvfb (2:1.19.6-1ubuntu4.10) ...\n",
            "Setting up xvfb (2:1.19.6-1ubuntu4.10) ...\n",
            "Processing triggers for man-db (2.8.3-2ubuntu0.1) ...\n"
          ]
        }
      ]
    },
    {
      "cell_type": "code",
      "source": [
        "import tensorflow as tf"
      ],
      "metadata": {
        "id": "Ck2ocCPP_VSA"
      },
      "execution_count": 26,
      "outputs": []
    },
    {
      "cell_type": "code",
      "source": [
        "import tflearn"
      ],
      "metadata": {
        "colab": {
          "base_uri": "https://localhost:8080/"
        },
        "id": "ZNrBw7xg_y33",
        "outputId": "adb9592c-4a94-48d1-8328-fe7cf84e4f9d"
      },
      "execution_count": 31,
      "outputs": [
        {
          "output_type": "stream",
          "name": "stdout",
          "text": [
            "WARNING:tensorflow:From /usr/local/lib/python3.7/dist-packages/tensorflow/python/compat/v2_compat.py:107: disable_resource_variables (from tensorflow.python.ops.variable_scope) is deprecated and will be removed in a future version.\n",
            "Instructions for updating:\n",
            "non-resource variables are not supported in the long term\n"
          ]
        }
      ]
    },
    {
      "cell_type": "code",
      "source": [
        "#resetting underlying graph data\n",
        "tf.compat.v1.reset_default_graph()"
      ],
      "metadata": {
        "id": "3247fuUuYufi"
      },
      "execution_count": 27,
      "outputs": []
    },
    {
      "cell_type": "code",
      "source": [
        "#Building neural network\n",
        "net = tflearn.input_data(shape=[None, len(train_x[0])])\n",
        "net = tflearn.fully_connected(net, 10)\n",
        "net = tflearn.fully_connected(net, 10)\n",
        "net = tflearn.fully_connected(net, len(train_y[0]), activation='softmax')\n",
        "net = tflearn.regression(net)"
      ],
      "metadata": {
        "colab": {
          "base_uri": "https://localhost:8080/"
        },
        "id": "ZXYOOLU9Y5Hc",
        "outputId": "59f190a8-db87-4a63-8120-4ace042fdfc9"
      },
      "execution_count": 32,
      "outputs": [
        {
          "output_type": "stream",
          "name": "stdout",
          "text": [
            "WARNING:tensorflow:From /usr/local/lib/python3.7/dist-packages/tflearn/initializations.py:165: calling TruncatedNormal.__init__ (from tensorflow.python.ops.init_ops) with dtype is deprecated and will be removed in a future version.\n",
            "Instructions for updating:\n",
            "Call initializer instance with the dtype argument instead of passing it to the constructor\n"
          ]
        }
      ]
    },
    {
      "cell_type": "code",
      "source": [
        "# Defining model and setting up tensorboard\n",
        "model = tflearn.DNN(net, tensorboard_dir='tflearn_logs')"
      ],
      "metadata": {
        "id": "a-VSeXTOZDh3"
      },
      "execution_count": 33,
      "outputs": []
    },
    {
      "cell_type": "code",
      "source": [
        "# Start training\n",
        "model.fit(train_x, train_y, n_epoch=100, batch_size=8, show_metric=True)\n",
        "model.save('model.tflearn')"
      ],
      "metadata": {
        "colab": {
          "base_uri": "https://localhost:8080/"
        },
        "id": "O2CbnkYgZHCx",
        "outputId": "76a4ea18-72bf-48da-a167-d0a54fa9e3e5"
      },
      "execution_count": 34,
      "outputs": [
        {
          "output_type": "stream",
          "name": "stdout",
          "text": [
            "Training Step: 3099  | total loss: \u001b[1m\u001b[32m0.97908\u001b[0m\u001b[0m | time: 0.174s\n",
            "| Adam | epoch: 100 | loss: 0.97908 - acc: 0.7107 -- iter: 240/244\n",
            "Training Step: 3100  | total loss: \u001b[1m\u001b[32m1.02753\u001b[0m\u001b[0m | time: 0.178s\n",
            "| Adam | epoch: 100 | loss: 1.02753 - acc: 0.6897 -- iter: 244/244\n",
            "--\n",
            "INFO:tensorflow:/content/model.tflearn is not in all_model_checkpoint_paths. Manually adding it.\n"
          ]
        }
      ]
    },
    {
      "cell_type": "code",
      "source": [
        "import pickle\n",
        "pickle.dump( {'words':words, 'classes':classes, 'train_x':train_x, 'train_y':train_y}, open( \"training_data\", \"wb\" ) )"
      ],
      "metadata": {
        "id": "P8HOejsrZLvP"
      },
      "execution_count": 35,
      "outputs": []
    },
    {
      "cell_type": "code",
      "source": [
        "#restoring all the data structures\n",
        "data = pickle.load( open( \"training_data\", \"rb\" ) )\n",
        "words = data['words']\n",
        "classes = data['classes']\n",
        "train_x = data['train_x']\n",
        "train_y = data['train_y']"
      ],
      "metadata": {
        "id": "uAD5GRPtZTzN"
      },
      "execution_count": 36,
      "outputs": []
    },
    {
      "cell_type": "code",
      "source": [
        "with open('intents.json') as json_data:\n",
        "    intents = json.load(json_data)"
      ],
      "metadata": {
        "id": "3iMMO3QqZXq-"
      },
      "execution_count": 37,
      "outputs": []
    },
    {
      "cell_type": "code",
      "source": [
        "# load the saved model\n",
        "model.load('./model.tflearn')"
      ],
      "metadata": {
        "id": "bMBxrBsZZYYA",
        "colab": {
          "base_uri": "https://localhost:8080/"
        },
        "outputId": "00cfb667-7556-4e72-d93b-eb91c8592b82"
      },
      "execution_count": 38,
      "outputs": [
        {
          "output_type": "stream",
          "name": "stdout",
          "text": [
            "INFO:tensorflow:Restoring parameters from /content/model.tflearn\n"
          ]
        }
      ]
    },
    {
      "cell_type": "code",
      "source": [
        "def clean_up_sentence(sentence):\n",
        "    # tokenizing the pattern\n",
        "    sentence_words = nltk.word_tokenize(sentence)\n",
        "    # stemming each word\n",
        "    sentence_words = [stemmer.stem(word.lower()) for word in sentence_words]\n",
        "    return sentence_words"
      ],
      "metadata": {
        "id": "rQ2QbtKnZe9a"
      },
      "execution_count": 39,
      "outputs": []
    },
    {
      "cell_type": "code",
      "source": [
        "# returning bag of words array: 0 or 1 for each word in the bag that exists in the sentence\n",
        "def bow(sentence, words, show_details=False):\n",
        "    # tokenizing the pattern\n",
        "    sentence_words = clean_up_sentence(sentence)\n",
        "    # generating bag of words\n",
        "    bag = [0]*len(words)  \n",
        "    for s in sentence_words:\n",
        "        for i,w in enumerate(words):\n",
        "            if w == s: \n",
        "                bag[i] = 1\n",
        "                if show_details:\n",
        "                    print (\"found in bag: %s\" % w)\n",
        "    return(np.array(bag))"
      ],
      "metadata": {
        "id": "gwd0Qt5PZjUu"
      },
      "execution_count": 40,
      "outputs": []
    },
    {
      "cell_type": "code",
      "source": [
        "ERROR_THRESHOLD = 0.30\n",
        "def classify(sentence):\n",
        "    # generate probabilities from the model\n",
        "    results = model.predict([bow(sentence, words)])[0]\n",
        "    # filter out predictions below a threshold\n",
        "    results = [[i,r] for i,r in enumerate(results) if r>ERROR_THRESHOLD]\n",
        "    # sort by strength of probability\n",
        "    results.sort(key=lambda x: x[1], reverse=True)\n",
        "    return_list = []\n",
        "    for r in results:\n",
        "        return_list.append((classes[r[0]], r[1]))\n",
        "    # return tuple of intent and probability\n",
        "    return return_list"
      ],
      "metadata": {
        "id": "8OYGPHJeZmoG"
      },
      "execution_count": 41,
      "outputs": []
    },
    {
      "cell_type": "code",
      "source": [
        "def response(sentence, userID='123', show_details=False):\n",
        "    results = classify(sentence)\n",
        "    # if we have a classification then find the matching intent tag\n",
        "    if results:\n",
        "        # loop as long as there are matches to process\n",
        "        while results:\n",
        "            for i in intents['intents']:\n",
        "                # find a tag matching the first result\n",
        "                if i['tag'] == results[0][0]:\n",
        "                    # a random response from the intent\n",
        "                    return print(random.choice(i['responses']))\n",
        "\n",
        "            results.pop(0)"
      ],
      "metadata": {
        "id": "AKwCYfrvZqlk"
      },
      "execution_count": 42,
      "outputs": []
    },
    {
      "cell_type": "code",
      "source": [
        "response(\"Hi\")"
      ],
      "metadata": {
        "id": "2mJ8aeQVZvQr",
        "colab": {
          "base_uri": "https://localhost:8080/"
        },
        "outputId": "b62106ad-7347-4417-f23d-7a12aa7e4a31"
      },
      "execution_count": 43,
      "outputs": [
        {
          "output_type": "stream",
          "name": "stdout",
          "text": [
            "Hi there, how can I help?\n"
          ]
        }
      ]
    },
    {
      "cell_type": "code",
      "source": [
        "response(\"what is your name\")"
      ],
      "metadata": {
        "id": "wXKNi7d6Zy7M",
        "colab": {
          "base_uri": "https://localhost:8080/"
        },
        "outputId": "f754546f-d8c9-4489-e5cc-40c119996155"
      },
      "execution_count": 44,
      "outputs": [
        {
          "output_type": "stream",
          "name": "stdout",
          "text": [
            "You can call me bot.\n"
          ]
        }
      ]
    },
    {
      "cell_type": "code",
      "source": [
        "response(\"coughing\")"
      ],
      "metadata": {
        "id": "OtSwrnjaZ3eq",
        "colab": {
          "base_uri": "https://localhost:8080/"
        },
        "outputId": "3e85e064-b48d-4c14-a333-118a577176f7"
      },
      "execution_count": 45,
      "outputs": [
        {
          "output_type": "stream",
          "name": "stdout",
          "text": [
            "you might be suffering from influeza\n"
          ]
        }
      ]
    }
  ]
}